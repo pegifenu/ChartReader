{
 "cells": [
  {
   "cell_type": "code",
   "execution_count": 1,
   "metadata": {},
   "outputs": [],
   "source": [
    "import cv2, json, boto3\n",
    "import matplotlib.pyplot as plt\n",
    "import numpy as np\n",
    "from pathlib import Path\n",
    "from matplotlib import rcParams"
   ]
  },
  {
   "cell_type": "code",
   "execution_count": 2,
   "metadata": {},
   "outputs": [],
   "source": [
    "# Directory of images to run the code on\n",
    "img_dir = '../bar_charts'"
   ]
  },
  {
   "cell_type": "code",
   "execution_count": 3,
   "metadata": {},
   "outputs": [],
   "source": [
    "def expand(points, margin = 1):\n",
    "    return np.array([\n",
    "        [[points[0][0][0] - margin, points[0][0][1] - margin]],\n",
    "        [[points[1][0][0] + margin, points[1][0][1] - margin]],\n",
    "        [[points[2][0][0] + margin, points[2][0][1] + margin]],\n",
    "        [[points[3][0][0] - margin, points[3][0][1] + margin]]])"
   ]
  },
  {
   "cell_type": "code",
   "execution_count": 4,
   "metadata": {},
   "outputs": [],
   "source": [
    "def detectText(path, image, image_text, img_text):\n",
    "    \n",
    "    img_height, img_width, channels = image.shape\n",
    "    _, im_buf = cv2.imencode(\".\" + path.name.split(\".\")[-1], image)\n",
    "        \n",
    "    response = client.detect_text(\n",
    "        Image = {\n",
    "            \"Bytes\" : im_buf.tobytes()\n",
    "        }\n",
    "    )\n",
    "    \n",
    "    if path.name not in image_text:\n",
    "        image_text[path.name] = {}\n",
    "        image_text[path.name]['TextDetections'] = response['TextDetections']\n",
    "    else:\n",
    "        image_text[path.name]['TextDetections'].extend(response['TextDetections'])\n",
    "        \n",
    "    textDetections = response['TextDetections']\n",
    "        \n",
    "    if path.name not in img_text:\n",
    "        img_text[path.name] = []\n",
    "            \n",
    "    for text in textDetections:\n",
    "        if text['Type'] == 'WORD' and text['Confidence'] >= 80:\n",
    "                \n",
    "            vertices = [[vertex['X'] * img_width, vertex['Y'] * img_height] for vertex in text['Geometry']['Polygon']]\n",
    "            vertices = np.array(vertices, np.int32)\n",
    "            vertices = vertices.reshape((-1, 1, 2))\n",
    "            \n",
    "            image = cv2.fillPoly(image, [expand(vertices)], (255, 255, 255))\n",
    "                  \n",
    "            left = np.amin(vertices, axis=0)[0][0]\n",
    "            top = np.amin(vertices, axis=0)[0][1]\n",
    "            right = np.amax(vertices, axis=0)[0][0]\n",
    "            bottom = np.amax(vertices, axis=0)[0][1]\n",
    "            \n",
    "            img_text[path.name].append(\n",
    "                (\n",
    "                    text['DetectedText'],\n",
    "                    (\n",
    "                        int(left),\n",
    "                        int(top),\n",
    "                        int(right - left),\n",
    "                        int(bottom - top)\n",
    "                    )\n",
    "                )\n",
    "            )\n",
    "\n",
    "    return image"
   ]
  },
  {
   "cell_type": "code",
   "execution_count": 5,
   "metadata": {
    "scrolled": false
   },
   "outputs": [
    {
     "ename": "ProfileNotFound",
     "evalue": "The config profile (pegifenu) could not be found",
     "output_type": "error",
     "traceback": [
      "\u001b[1;31m---------------------------------------------------------------------------\u001b[0m",
      "\u001b[1;31mProfileNotFound\u001b[0m                           Traceback (most recent call last)",
      "Cell \u001b[1;32mIn[5], line 3\u001b[0m\n\u001b[0;32m      1\u001b[0m img_text \u001b[38;5;241m=\u001b[39m {}\n\u001b[0;32m      2\u001b[0m image_text \u001b[38;5;241m=\u001b[39m {}\n\u001b[1;32m----> 3\u001b[0m session \u001b[38;5;241m=\u001b[39m \u001b[43mboto3\u001b[49m\u001b[38;5;241;43m.\u001b[39;49m\u001b[43mSession\u001b[49m\u001b[43m(\u001b[49m\u001b[43mprofile_name\u001b[49m\u001b[38;5;241;43m=\u001b[39;49m\u001b[38;5;124;43m'\u001b[39;49m\u001b[38;5;124;43mpegifenu\u001b[39;49m\u001b[38;5;124;43m'\u001b[39;49m\u001b[43m)\u001b[49m\n\u001b[0;32m      4\u001b[0m client \u001b[38;5;241m=\u001b[39m boto3\u001b[38;5;241m.\u001b[39mclient(\u001b[38;5;124m'\u001b[39m\u001b[38;5;124mrekognition\u001b[39m\u001b[38;5;124m'\u001b[39m, region_name\u001b[38;5;241m=\u001b[39m\u001b[38;5;124m'\u001b[39m\u001b[38;5;124map-southeast-2\u001b[39m\u001b[38;5;124m'\u001b[39m)\n\u001b[0;32m      6\u001b[0m \u001b[38;5;28;01mfor\u001b[39;00m index, path \u001b[38;5;129;01min\u001b[39;00m \u001b[38;5;28menumerate\u001b[39m(Path(img_dir)\u001b[38;5;241m.\u001b[39miterdir()):\n",
      "File \u001b[1;32m~\\AppData\\Roaming\\Python\\Python312\\site-packages\\boto3\\session.py:88\u001b[0m, in \u001b[0;36mSession.__init__\u001b[1;34m(self, aws_access_key_id, aws_secret_access_key, aws_session_token, region_name, botocore_session, profile_name)\u001b[0m\n\u001b[0;32m     83\u001b[0m     \u001b[38;5;28mself\u001b[39m\u001b[38;5;241m.\u001b[39m_session\u001b[38;5;241m.\u001b[39mset_config_variable(\u001b[38;5;124m'\u001b[39m\u001b[38;5;124mregion\u001b[39m\u001b[38;5;124m'\u001b[39m, region_name)\n\u001b[0;32m     85\u001b[0m \u001b[38;5;28mself\u001b[39m\u001b[38;5;241m.\u001b[39mresource_factory \u001b[38;5;241m=\u001b[39m ResourceFactory(\n\u001b[0;32m     86\u001b[0m     \u001b[38;5;28mself\u001b[39m\u001b[38;5;241m.\u001b[39m_session\u001b[38;5;241m.\u001b[39mget_component(\u001b[38;5;124m'\u001b[39m\u001b[38;5;124mevent_emitter\u001b[39m\u001b[38;5;124m'\u001b[39m)\n\u001b[0;32m     87\u001b[0m )\n\u001b[1;32m---> 88\u001b[0m \u001b[38;5;28;43mself\u001b[39;49m\u001b[38;5;241;43m.\u001b[39;49m\u001b[43m_setup_loader\u001b[49m\u001b[43m(\u001b[49m\u001b[43m)\u001b[49m\n\u001b[0;32m     89\u001b[0m \u001b[38;5;28mself\u001b[39m\u001b[38;5;241m.\u001b[39m_register_default_handlers()\n",
      "File \u001b[1;32m~\\AppData\\Roaming\\Python\\Python312\\site-packages\\boto3\\session.py:129\u001b[0m, in \u001b[0;36mSession._setup_loader\u001b[1;34m(self)\u001b[0m\n\u001b[0;32m    125\u001b[0m \u001b[38;5;28;01mdef\u001b[39;00m \u001b[38;5;21m_setup_loader\u001b[39m(\u001b[38;5;28mself\u001b[39m):\n\u001b[0;32m    126\u001b[0m \u001b[38;5;250m    \u001b[39m\u001b[38;5;124;03m\"\"\"\u001b[39;00m\n\u001b[0;32m    127\u001b[0m \u001b[38;5;124;03m    Setup loader paths so that we can load resources.\u001b[39;00m\n\u001b[0;32m    128\u001b[0m \u001b[38;5;124;03m    \"\"\"\u001b[39;00m\n\u001b[1;32m--> 129\u001b[0m     \u001b[38;5;28mself\u001b[39m\u001b[38;5;241m.\u001b[39m_loader \u001b[38;5;241m=\u001b[39m \u001b[38;5;28;43mself\u001b[39;49m\u001b[38;5;241;43m.\u001b[39;49m\u001b[43m_session\u001b[49m\u001b[38;5;241;43m.\u001b[39;49m\u001b[43mget_component\u001b[49m\u001b[43m(\u001b[49m\u001b[38;5;124;43m'\u001b[39;49m\u001b[38;5;124;43mdata_loader\u001b[39;49m\u001b[38;5;124;43m'\u001b[39;49m\u001b[43m)\u001b[49m\n\u001b[0;32m    130\u001b[0m     \u001b[38;5;28mself\u001b[39m\u001b[38;5;241m.\u001b[39m_loader\u001b[38;5;241m.\u001b[39msearch_paths\u001b[38;5;241m.\u001b[39mappend(\n\u001b[0;32m    131\u001b[0m         os\u001b[38;5;241m.\u001b[39mpath\u001b[38;5;241m.\u001b[39mjoin(os\u001b[38;5;241m.\u001b[39mpath\u001b[38;5;241m.\u001b[39mdirname(\u001b[38;5;18m__file__\u001b[39m), \u001b[38;5;124m'\u001b[39m\u001b[38;5;124mdata\u001b[39m\u001b[38;5;124m'\u001b[39m)\n\u001b[0;32m    132\u001b[0m     )\n",
      "File \u001b[1;32m~\\AppData\\Roaming\\Python\\Python312\\site-packages\\botocore\\session.py:802\u001b[0m, in \u001b[0;36mSession.get_component\u001b[1;34m(self, name)\u001b[0m\n\u001b[0;32m    800\u001b[0m \u001b[38;5;28;01mdef\u001b[39;00m \u001b[38;5;21mget_component\u001b[39m(\u001b[38;5;28mself\u001b[39m, name):\n\u001b[0;32m    801\u001b[0m     \u001b[38;5;28;01mtry\u001b[39;00m:\n\u001b[1;32m--> 802\u001b[0m         \u001b[38;5;28;01mreturn\u001b[39;00m \u001b[38;5;28;43mself\u001b[39;49m\u001b[38;5;241;43m.\u001b[39;49m\u001b[43m_components\u001b[49m\u001b[38;5;241;43m.\u001b[39;49m\u001b[43mget_component\u001b[49m\u001b[43m(\u001b[49m\u001b[43mname\u001b[49m\u001b[43m)\u001b[49m\n\u001b[0;32m    803\u001b[0m     \u001b[38;5;28;01mexcept\u001b[39;00m \u001b[38;5;167;01mValueError\u001b[39;00m:\n\u001b[0;32m    804\u001b[0m         \u001b[38;5;28;01mif\u001b[39;00m name \u001b[38;5;129;01min\u001b[39;00m [\u001b[38;5;124m'\u001b[39m\u001b[38;5;124mendpoint_resolver\u001b[39m\u001b[38;5;124m'\u001b[39m, \u001b[38;5;124m'\u001b[39m\u001b[38;5;124mexceptions_factory\u001b[39m\u001b[38;5;124m'\u001b[39m]:\n",
      "File \u001b[1;32m~\\AppData\\Roaming\\Python\\Python312\\site-packages\\botocore\\session.py:1140\u001b[0m, in \u001b[0;36mComponentLocator.get_component\u001b[1;34m(self, name)\u001b[0m\n\u001b[0;32m   1138\u001b[0m \u001b[38;5;28;01mif\u001b[39;00m name \u001b[38;5;129;01min\u001b[39;00m \u001b[38;5;28mself\u001b[39m\u001b[38;5;241m.\u001b[39m_deferred:\n\u001b[0;32m   1139\u001b[0m     factory \u001b[38;5;241m=\u001b[39m \u001b[38;5;28mself\u001b[39m\u001b[38;5;241m.\u001b[39m_deferred[name]\n\u001b[1;32m-> 1140\u001b[0m     \u001b[38;5;28mself\u001b[39m\u001b[38;5;241m.\u001b[39m_components[name] \u001b[38;5;241m=\u001b[39m \u001b[43mfactory\u001b[49m\u001b[43m(\u001b[49m\u001b[43m)\u001b[49m\n\u001b[0;32m   1141\u001b[0m     \u001b[38;5;66;03m# Only delete the component from the deferred dict after\u001b[39;00m\n\u001b[0;32m   1142\u001b[0m     \u001b[38;5;66;03m# successfully creating the object from the factory as well as\u001b[39;00m\n\u001b[0;32m   1143\u001b[0m     \u001b[38;5;66;03m# injecting the instantiated value into the _components dict.\u001b[39;00m\n\u001b[0;32m   1144\u001b[0m     \u001b[38;5;28;01mtry\u001b[39;00m:\n",
      "File \u001b[1;32m~\\AppData\\Roaming\\Python\\Python312\\site-packages\\botocore\\session.py:199\u001b[0m, in \u001b[0;36mSession._register_data_loader.<locals>.<lambda>\u001b[1;34m()\u001b[0m\n\u001b[0;32m    196\u001b[0m \u001b[38;5;28;01mdef\u001b[39;00m \u001b[38;5;21m_register_data_loader\u001b[39m(\u001b[38;5;28mself\u001b[39m):\n\u001b[0;32m    197\u001b[0m     \u001b[38;5;28mself\u001b[39m\u001b[38;5;241m.\u001b[39m_components\u001b[38;5;241m.\u001b[39mlazy_register_component(\n\u001b[0;32m    198\u001b[0m         \u001b[38;5;124m'\u001b[39m\u001b[38;5;124mdata_loader\u001b[39m\u001b[38;5;124m'\u001b[39m,\n\u001b[1;32m--> 199\u001b[0m         \u001b[38;5;28;01mlambda\u001b[39;00m: create_loader(\u001b[38;5;28;43mself\u001b[39;49m\u001b[38;5;241;43m.\u001b[39;49m\u001b[43mget_config_variable\u001b[49m\u001b[43m(\u001b[49m\u001b[38;5;124;43m'\u001b[39;49m\u001b[38;5;124;43mdata_path\u001b[39;49m\u001b[38;5;124;43m'\u001b[39;49m\u001b[43m)\u001b[49m),\n\u001b[0;32m    200\u001b[0m     )\n",
      "File \u001b[1;32m~\\AppData\\Roaming\\Python\\Python312\\site-packages\\botocore\\session.py:323\u001b[0m, in \u001b[0;36mSession.get_config_variable\u001b[1;34m(self, logical_name, methods)\u001b[0m\n\u001b[0;32m    319\u001b[0m \u001b[38;5;28;01mif\u001b[39;00m methods \u001b[38;5;129;01mis\u001b[39;00m \u001b[38;5;129;01mnot\u001b[39;00m \u001b[38;5;28;01mNone\u001b[39;00m:\n\u001b[0;32m    320\u001b[0m     \u001b[38;5;28;01mreturn\u001b[39;00m \u001b[38;5;28mself\u001b[39m\u001b[38;5;241m.\u001b[39m_get_config_variable_with_custom_methods(\n\u001b[0;32m    321\u001b[0m         logical_name, methods\n\u001b[0;32m    322\u001b[0m     )\n\u001b[1;32m--> 323\u001b[0m \u001b[38;5;28;01mreturn\u001b[39;00m \u001b[38;5;28;43mself\u001b[39;49m\u001b[38;5;241;43m.\u001b[39;49m\u001b[43mget_component\u001b[49m\u001b[43m(\u001b[49m\u001b[38;5;124;43m'\u001b[39;49m\u001b[38;5;124;43mconfig_store\u001b[39;49m\u001b[38;5;124;43m'\u001b[39;49m\u001b[43m)\u001b[49m\u001b[38;5;241;43m.\u001b[39;49m\u001b[43mget_config_variable\u001b[49m\u001b[43m(\u001b[49m\n\u001b[0;32m    324\u001b[0m \u001b[43m    \u001b[49m\u001b[43mlogical_name\u001b[49m\n\u001b[0;32m    325\u001b[0m \u001b[43m\u001b[49m\u001b[43m)\u001b[49m\n",
      "File \u001b[1;32m~\\AppData\\Roaming\\Python\\Python312\\site-packages\\botocore\\configprovider.py:465\u001b[0m, in \u001b[0;36mConfigValueStore.get_config_variable\u001b[1;34m(self, logical_name)\u001b[0m\n\u001b[0;32m    463\u001b[0m     \u001b[38;5;28;01mreturn\u001b[39;00m \u001b[38;5;28;01mNone\u001b[39;00m\n\u001b[0;32m    464\u001b[0m provider \u001b[38;5;241m=\u001b[39m \u001b[38;5;28mself\u001b[39m\u001b[38;5;241m.\u001b[39m_mapping[logical_name]\n\u001b[1;32m--> 465\u001b[0m \u001b[38;5;28;01mreturn\u001b[39;00m \u001b[43mprovider\u001b[49m\u001b[38;5;241;43m.\u001b[39;49m\u001b[43mprovide\u001b[49m\u001b[43m(\u001b[49m\u001b[43m)\u001b[49m\n",
      "File \u001b[1;32m~\\AppData\\Roaming\\Python\\Python312\\site-packages\\botocore\\configprovider.py:671\u001b[0m, in \u001b[0;36mChainProvider.provide\u001b[1;34m(self)\u001b[0m\n\u001b[0;32m    664\u001b[0m \u001b[38;5;250m\u001b[39m\u001b[38;5;124;03m\"\"\"Provide the value from the first provider to return non-None.\u001b[39;00m\n\u001b[0;32m    665\u001b[0m \n\u001b[0;32m    666\u001b[0m \u001b[38;5;124;03mEach provider in the chain has its provide method called. The first\u001b[39;00m\n\u001b[0;32m    667\u001b[0m \u001b[38;5;124;03mone in the chain to return a non-None value is the returned from the\u001b[39;00m\n\u001b[0;32m    668\u001b[0m \u001b[38;5;124;03mChainProvider. When no non-None value is found, None is returned.\u001b[39;00m\n\u001b[0;32m    669\u001b[0m \u001b[38;5;124;03m\"\"\"\u001b[39;00m\n\u001b[0;32m    670\u001b[0m \u001b[38;5;28;01mfor\u001b[39;00m provider \u001b[38;5;129;01min\u001b[39;00m \u001b[38;5;28mself\u001b[39m\u001b[38;5;241m.\u001b[39m_providers:\n\u001b[1;32m--> 671\u001b[0m     value \u001b[38;5;241m=\u001b[39m \u001b[43mprovider\u001b[49m\u001b[38;5;241;43m.\u001b[39;49m\u001b[43mprovide\u001b[49m\u001b[43m(\u001b[49m\u001b[43m)\u001b[49m\n\u001b[0;32m    672\u001b[0m     \u001b[38;5;28;01mif\u001b[39;00m value \u001b[38;5;129;01mis\u001b[39;00m \u001b[38;5;129;01mnot\u001b[39;00m \u001b[38;5;28;01mNone\u001b[39;00m:\n\u001b[0;32m    673\u001b[0m         \u001b[38;5;28;01mreturn\u001b[39;00m \u001b[38;5;28mself\u001b[39m\u001b[38;5;241m.\u001b[39m_convert_type(value)\n",
      "File \u001b[1;32m~\\AppData\\Roaming\\Python\\Python312\\site-packages\\botocore\\configprovider.py:761\u001b[0m, in \u001b[0;36mScopedConfigProvider.provide\u001b[1;34m(self)\u001b[0m\n\u001b[0;32m    759\u001b[0m \u001b[38;5;28;01mdef\u001b[39;00m \u001b[38;5;21mprovide\u001b[39m(\u001b[38;5;28mself\u001b[39m):\n\u001b[0;32m    760\u001b[0m \u001b[38;5;250m    \u001b[39m\u001b[38;5;124;03m\"\"\"Provide a value from a config file property.\"\"\"\u001b[39;00m\n\u001b[1;32m--> 761\u001b[0m     scoped_config \u001b[38;5;241m=\u001b[39m \u001b[38;5;28;43mself\u001b[39;49m\u001b[38;5;241;43m.\u001b[39;49m\u001b[43m_session\u001b[49m\u001b[38;5;241;43m.\u001b[39;49m\u001b[43mget_scoped_config\u001b[49m\u001b[43m(\u001b[49m\u001b[43m)\u001b[49m\n\u001b[0;32m    762\u001b[0m     \u001b[38;5;28;01mif\u001b[39;00m \u001b[38;5;28misinstance\u001b[39m(\u001b[38;5;28mself\u001b[39m\u001b[38;5;241m.\u001b[39m_config_var_name, \u001b[38;5;28mtuple\u001b[39m):\n\u001b[0;32m    763\u001b[0m         section_config \u001b[38;5;241m=\u001b[39m scoped_config\u001b[38;5;241m.\u001b[39mget(\u001b[38;5;28mself\u001b[39m\u001b[38;5;241m.\u001b[39m_config_var_name[\u001b[38;5;241m0\u001b[39m])\n",
      "File \u001b[1;32m~\\AppData\\Roaming\\Python\\Python312\\site-packages\\botocore\\session.py:422\u001b[0m, in \u001b[0;36mSession.get_scoped_config\u001b[1;34m(self)\u001b[0m\n\u001b[0;32m    417\u001b[0m     \u001b[38;5;28;01mreturn\u001b[39;00m profile_map\u001b[38;5;241m.\u001b[39mget(\u001b[38;5;124m'\u001b[39m\u001b[38;5;124mdefault\u001b[39m\u001b[38;5;124m'\u001b[39m, {})\n\u001b[0;32m    418\u001b[0m \u001b[38;5;28;01melif\u001b[39;00m profile_name \u001b[38;5;129;01mnot\u001b[39;00m \u001b[38;5;129;01min\u001b[39;00m profile_map:\n\u001b[0;32m    419\u001b[0m     \u001b[38;5;66;03m# Otherwise if they specified a profile, it has to\u001b[39;00m\n\u001b[0;32m    420\u001b[0m     \u001b[38;5;66;03m# exist (even if it's the default profile) otherwise\u001b[39;00m\n\u001b[0;32m    421\u001b[0m     \u001b[38;5;66;03m# we complain.\u001b[39;00m\n\u001b[1;32m--> 422\u001b[0m     \u001b[38;5;28;01mraise\u001b[39;00m ProfileNotFound(profile\u001b[38;5;241m=\u001b[39mprofile_name)\n\u001b[0;32m    423\u001b[0m \u001b[38;5;28;01melse\u001b[39;00m:\n\u001b[0;32m    424\u001b[0m     \u001b[38;5;28;01mreturn\u001b[39;00m profile_map[profile_name]\n",
      "\u001b[1;31mProfileNotFound\u001b[0m: The config profile (pegifenu) could not be found"
     ]
    }
   ],
   "source": [
    "img_text = {}\n",
    "image_text = {}\n",
    "session = boto3.Session(profile_name='default')\n",
    "client = boto3.client('rekognition', region_name='ap-southeast-2')\n",
    "\n",
    "for index, path in enumerate(Path(img_dir).iterdir()):\n",
    "    if path.name.endswith('.png') or path.name.endswith('.jpg') or path.name.endswith('.jpeg'):       \n",
    "        filepath = img_dir + \"/\" + path.name\n",
    "        \n",
    "        print(\"[{0}] file name: {1}\".format(index, path.name))\n",
    "        \n",
    "        image = cv2.imread(filepath)\n",
    "        image = cv2.cvtColor(image, cv2.COLOR_BGR2RGB)\n",
    "            \n",
    "        image = detectText(path, image, image_text, img_text)\n",
    "        detectText(path, image, image_text, img_text)\n",
    "        \n",
    "with open('../data/aws-rekognition-output.json', 'w') as out:\n",
    "    json.dump(image_text, out)\n",
    "    \n",
    "with open('../data/ocr-image-text.json', 'w') as out:\n",
    "    json.dump(img_text, out)"
   ]
  }
 ],
 "metadata": {
  "kernelspec": {
   "display_name": "Python 3",
   "language": "python",
   "name": "python3"
  },
  "language_info": {
   "codemirror_mode": {
    "name": "ipython",
    "version": 3
   },
   "file_extension": ".py",
   "mimetype": "text/x-python",
   "name": "python",
   "nbconvert_exporter": "python",
   "pygments_lexer": "ipython3",
   "version": "3.12.2"
  }
 },
 "nbformat": 4,
 "nbformat_minor": 2
}
